{
 "cells": [
  {
   "cell_type": "code",
   "execution_count": 1,
   "id": "fa8ab27e",
   "metadata": {},
   "outputs": [],
   "source": [
    "import numpy\n",
    "import matplotlib.pyplot as plt\n"
   ]
  },
  {
   "cell_type": "code",
   "execution_count": null,
   "id": "7bd37658",
   "metadata": {},
   "outputs": [],
   "source": [
    "import numpy as np\n",
    "import matplotlib.pyplot as plt\n",
    "from mpl_toolkits.mplot3d import Axes3D\n",
    "\n",
    "def generate_sphere_array(volume_size, sphere_radius):\n",
    "    # Create a grid of coordinates for each point in the volume\n",
    "    x_coords, y_coords, z_coords = np.ogrid[:volume_size[0], :volume_size[1], :volume_size[2]]\n",
    "\n",
    "    # Calculate the spacing between spheres\n",
    "    spacing = volume_size[0] // 10\n",
    "\n",
    "    # Calculate the centers of all spheres in the grid\n",
    "    centers = np.indices((10, 10, 10)).reshape(3, -1).T * spacing\n",
    "\n",
    "    # Expand the coordinates to match the volume size\n",
    "    expanded_x_coords = np.expand_dims(x_coords, axis=(0, 1, 2))\n",
    "    expanded_y_coords = np.expand_dims(y_coords, axis=(0, 1, 2))\n",
    "    expanded_z_coords = np.expand_dims(z_coords, axis=(0, 1, 2))\n",
    "\n",
    "    # Calculate the distances from each point to all sphere centers\n",
    "    distances = np.sqrt(\n",
    "        (expanded_x_coords - centers[:, 0, np.newaxis, np.newaxis, np.newaxis])**2 +\n",
    "        (expanded_y_coords - centers[:, 1, np.newaxis, np.newaxis, np.newaxis])**2 +\n",
    "        (expanded_z_coords - centers[:, 2, np.newaxis, np.newaxis, np.newaxis])**2\n",
    "    )\n",
    "\n",
    "    # Generate the sphere array by checking if any distance is smaller than the sphere radius\n",
    "    sphere_array = np.any(distances <= sphere_radius, axis=0)\n",
    "\n",
    "    return sphere_array\n",
    "\n",
    "# Define the size of the volume\n",
    "volume_size = (256, 256, 256)\n",
    "\n",
    "# Define the radius of the spheres\n",
    "sphere_radius = 10\n",
    "\n",
    "# Generate the sphere array\n",
    "sphere_array = generate_sphere_array(volume_size, sphere_radius)\n",
    "\n",
    "# Visualize the 3D array\n",
    "fig = plt.figure()\n",
    "ax = fig.add_subplot(111, projection='3d')\n",
    "ax.voxels(sphere_array, edgecolor='k')\n",
    "\n",
    "# Set the aspect ratio of the plot to be equal\n",
    "ax.set_box_aspect([1, 1, 1])\n",
    "\n",
    "# Show the plot\n",
    "plt.show()\n"
   ]
  },
  {
   "cell_type": "code",
   "execution_count": 1,
   "id": "b5817315",
   "metadata": {},
   "outputs": [
    {
     "data": {
      "image/png": "[encoded data removed]",
      "text/plain": [
       "<Figure size 432x288 with 1 Axes>"
      ]
     },
     "metadata": {
      "needs_background": "light"
     },
     "output_type": "display_data"
    }
   ],
   "source": [
    "import numpy as np\n",
    "import matplotlib.pyplot as plt\n",
    "from mpl_toolkits.mplot3d import Axes3D\n",
    "\n",
    "def generate_sphere(center, volume_size, sphere_radius):\n",
    "    # Create a grid of coordinates for each point in the volume\n",
    "    x_coords, y_coords, z_coords = np.ogrid[:volume_size[0], :volume_size[1], :volume_size[2]]\n",
    "\n",
    "    # Calculate the distance from each point to the center\n",
    "    distances = np.sqrt((x_coords - center[0])**2 + (y_coords - center[1])**2 + (z_coords - center[2])**2)\n",
    "\n",
    "    # Generate the sphere by comparing distances to the sphere radius\n",
    "    sphere = distances <= sphere_radius\n",
    "\n",
    "    return sphere\n",
    "\n",
    "def generate_sphere_array(volume_size, sphere_radius):\n",
    "    # Create an empty 3D array\n",
    "    volume = np.zeros(volume_size, dtype=bool)\n",
    "\n",
    "    # Calculate the spacing between spheres\n",
    "    spacing = volume_size[0] // 10\n",
    "\n",
    "    # Generate the sphere array\n",
    "    for i in range(10):\n",
    "        for j in range(10):\n",
    "            for k in range(10):\n",
    "                # Calculate the center of the current sphere\n",
    "                center = (np.array([i, j, k])+0.5) * spacing\n",
    "\n",
    "                # Generate the sphere\n",
    "                sphere = generate_sphere(center, volume_size, sphere_radius)\n",
    "\n",
    "                # Combine the current sphere with the volume\n",
    "                volume |= sphere\n",
    "                #print(f'The i%, j%, k% sphere is generated.')\n",
    "\n",
    "    return volume\n",
    "\n",
    "# Define the size of the volume\n",
    "volume_size = (256, 256, 256)\n",
    "\n",
    "# Define the radius of the spheres\n",
    "sphere_radius = 10\n",
    "\n",
    "# Generate the sphere array\n",
    "sphere_array = generate_sphere_array(volume_size, sphere_radius)\n",
    "\n",
    "# Visualize the 3D array\n",
    "fig = plt.figure()\n",
    "ax = fig.add_subplot(111, projection='3d')\n",
    "ax.voxels(sphere_array, edgecolor='k')\n",
    "\n",
    "# Set the aspect ratio of the plot to be equal\n",
    "ax.set_box_aspect([1, 1, 1])\n",
    "\n",
    "# Show the plot\n",
    "plt.show()"
   ]
  },
  {
   "cell_type": "code",
   "execution_count": 4,
   "id": "0ccfac03",
   "metadata": {},
   "outputs": [
    {
     "name": "stdout",
     "output_type": "stream",
     "text": [
      "(256, 256, 256)\n"
     ]
    }
   ],
   "source": [
    "print(sphere_array.shape)"
   ]
  },
  {
   "cell_type": "code",
   "execution_count": 2,
   "id": "8433c713",
   "metadata": {},
   "outputs": [],
   "source": [
    "import tifffile\n",
    "tifffile.imsave('/Users/xiaogangyang/data/diffraction_ruipeng/sim_sphere_array.tiff', sphere_array)"
   ]
  },
  {
   "cell_type": "code",
   "execution_count": 5,
   "id": "16dcf4f7",
   "metadata": {},
   "outputs": [
    {
     "data": {
      "text/plain": [
       "256"
      ]
     },
     "execution_count": 5,
     "metadata": {},
     "output_type": "execute_result"
    }
   ],
   "source": [
    "max(sim_obj.shape)"
   ]
  },
  {
   "cell_type": "code",
   "execution_count": 3,
   "id": "149084a0",
   "metadata": {},
   "outputs": [],
   "source": [
    "sim_obj = sphere_array/255"
   ]
  },
  {
   "cell_type": "code",
   "execution_count": null,
   "id": "e3c596b3",
   "metadata": {},
   "outputs": [],
   "source": [
    "from scipy.ndimage import rotate\n",
    "def radon_transform(volume):\n",
    "    # Get the maximum side length of the volume\n",
    "    max_length = max(volume.shape)\n",
    "\n",
    "    # Pad the volume with zeros to make it a cube\n",
    "    padded_volume = np.zeros((max_length, max_length, max_length))\n",
    "    padded_volume[:volume.shape[0], :volume.shape[1], :volume.shape[2]] = volume\n",
    "\n",
    "    # Initialize the sinogram array\n",
    "    sinogram = np.zeros((max_length, 180))\n",
    "\n",
    "    # Perform the Radon transform by rotating and Fourier transforming the volume\n",
    "    for angle in range(180):\n",
    "        rotated_volume = rotate(padded_volume, angle, axes=(1, 2), reshape=False)\n",
    "        transformed_volume = np.abs(np.fft.fftshift(np.fft.fftn(rotated_volume)))\n",
    "        projection = np.sum(transformed_volume, axis=0)\n",
    "        sinogram[:, angle] = projection\n",
    "\n",
    "    return sinogram"
   ]
  }
 ],
 "metadata": {
  "kernelspec": {
   "display_name": "Python 3 (ipykernel)",
   "language": "python",
   "name": "python3"
  },
  "language_info": {
   "codemirror_mode": {
    "name": "ipython",
    "version": 3
   },
   "file_extension": ".py",
   "mimetype": "text/x-python",
   "name": "python",
   "nbconvert_exporter": "python",
   "pygments_lexer": "ipython3",
   "version": "3.10.4"
  }
 },
 "nbformat": 4,
 "nbformat_minor": 5
}
